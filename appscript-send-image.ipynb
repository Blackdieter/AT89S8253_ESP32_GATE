{
 "cells": [
  {
   "cell_type": "markdown",
   "metadata": {},
   "source": [
    "Encode image to base64"
   ]
  },
  {
   "cell_type": "code",
   "execution_count": null,
   "metadata": {},
   "outputs": [],
   "source": [
    "import base64\n",
    "\n",
    "# Read the image file in binary mode\n",
    "with open(\"example.jpg\", \"rb\") as image_file:\n",
    "    # Encode the image to Base64\n",
    "    base64_encoded_image = base64.b64encode(image_file.read()).decode('utf-8')\n",
    "\n",
    "print(base64_encoded_image)"
   ]
  },
  {
   "cell_type": "markdown",
   "metadata": {},
   "source": [
    "Using Python's requests library:"
   ]
  },
  {
   "cell_type": "code",
   "execution_count": null,
   "metadata": {},
   "outputs": [],
   "source": [
    "import requests\n",
    "\n",
    "# Define the API endpoint\n",
    "url = \"https://example.com/upload\"\n",
    "\n",
    "# Create the payload\n",
    "payload = {\n",
    "    \"image\": base64_encoded_image,\n",
    "    \"filename\": \"example.jpg\",  # Optional metadata\n",
    "}\n",
    "\n",
    "# Send the POST request\n",
    "response = requests.post(url, json=payload)\n",
    "\n",
    "# Print the server's response\n",
    "print(\"Response Status Code:\", response.status_code)\n",
    "print(\"Response Text:\", response.text)\n"
   ]
  }
 ],
 "metadata": {
  "language_info": {
   "name": "python"
  }
 },
 "nbformat": 4,
 "nbformat_minor": 2
}
