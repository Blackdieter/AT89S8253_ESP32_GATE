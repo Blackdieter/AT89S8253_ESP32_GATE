{
 "cells": [
  {
   "cell_type": "markdown",
   "metadata": {},
   "source": [
    "Step 1: Read the Image and Encode It to Base64\n",
    "\n",
    "Example in Python:"
   ]
  },
  {
   "cell_type": "code",
   "execution_count": null,
   "metadata": {},
   "outputs": [],
   "source": [
    "import base64\n",
    "\n",
    "# Read the image file in binary mode\n",
    "with open(\"example.jpg\", \"rb\") as image_file:\n",
    "    # Encode the image to Base64\n",
    "    base64_encoded_image = base64.b64encode(image_file.read()).decode('utf-8')\n",
    "\n",
    "print(base64_encoded_image)"
   ]
  },
  {
   "cell_type": "markdown",
   "metadata": {},
   "source": [
    "Step 2: Send the Encoded Image via an HTTP POST Request\n",
    "\n",
    "Using Python's requests library:"
   ]
  },
  {
   "cell_type": "code",
   "execution_count": null,
   "metadata": {},
   "outputs": [],
   "source": [
    "import requests\n",
    "\n",
    "# Define the API endpoint\n",
    "url = \"https://example.com/upload\"\n",
    "\n",
    "# Create the payload\n",
    "payload = {\n",
    "    \"image\": base64_encoded_image,\n",
    "    \"filename\": \"example.jpg\",  # Optional metadata\n",
    "}\n",
    "\n",
    "# Send the POST request\n",
    "response = requests.post(url, json=payload)\n",
    "\n",
    "# Print the server's response\n",
    "print(\"Response Status Code:\", response.status_code)\n",
    "print(\"Response Text:\", response.text)\n"
   ]
  },
  {
   "cell_type": "markdown",
   "metadata": {},
   "source": [
    "Step 3: Server-Side Handling (Optional)\n",
    "\n",
    "On the server side, you will need to decode the Base64 string to restore the image. Here's a Python example:"
   ]
  },
  {
   "cell_type": "code",
   "execution_count": null,
   "metadata": {},
   "outputs": [],
   "source": [
    "import base64\n",
    "\n",
    "# Example payload received\n",
    "received_payload = {\n",
    "    \"image\": base64_encoded_image,  # This is from the POST request\n",
    "    \"filename\": \"example.jpg\",\n",
    "}\n",
    "\n",
    "# Decode the Base64 string back to binary\n",
    "decoded_image = base64.b64decode(received_payload[\"image\"])\n",
    "\n",
    "# Save the image to a file\n",
    "with open(received_payload[\"filename\"], \"wb\") as image_file:\n",
    "    image_file.write(decoded_image)\n",
    "\n",
    "print(f\"Image saved as {received_payload['filename']}\")\n"
   ]
  }
 ],
 "metadata": {
  "language_info": {
   "name": "python"
  }
 },
 "nbformat": 4,
 "nbformat_minor": 2
}
